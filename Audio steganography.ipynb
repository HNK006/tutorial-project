{
  "nbformat": 4,
  "nbformat_minor": 0,
  "metadata": {
    "colab": {
      "provenance": []
    },
    "kernelspec": {
      "name": "python3",
      "display_name": "Python 3"
    },
    "language_info": {
      "name": "python"
    }
  },
  "cells": [
    {
      "cell_type": "markdown",
      "source": [
        "# Audio Steganography"
      ],
      "metadata": {
        "id": "7fpKPgpr5PRO"
      }
    },
    {
      "cell_type": "code",
      "source": [
        "import wave"
      ],
      "metadata": {
        "id": "nJAmoVbdrtsF"
      },
      "execution_count": 8,
      "outputs": []
    },
    {
      "cell_type": "code",
      "execution_count": 9,
      "metadata": {
        "id": "kuX3Nl7JcICI"
      },
      "outputs": [],
      "source": [
        "def encode(input_audio, output_audio, message):\n",
        "  audio_file = wave.open(input_audio, mode ='rb')\n",
        "\n",
        "  # read frames of the audio and convert it to byte array\n",
        "  frames = audio_file.readframes(-1)\n",
        "  byte_array = bytearray(frames)\n",
        "\n",
        "  # convert the message to binary\n",
        "  message = [int(i) for i in ''.join([bin(ord(c)).lstrip('0b').rjust(8,'0') for c in message])]\n",
        "\n",
        "  # convert message length to binary and make it of 32 bits\n",
        "  message_len = len(message)\n",
        "  message_len_bin = bin(message_len)[2:].zfill(32)\n",
        "\n",
        "  # put message length information in first 32 bits of audio\n",
        "  message_len_bin = list(message_len_bin)\n",
        "  for i in range(0,32):\n",
        "    byte_array[i] = ((byte_array[i] & 254) | int(message_len_bin[i]))\n",
        "\n",
        "  # put secret message in LSB of audio bytes\n",
        "  for i, bit in enumerate(message):\n",
        "    byte_array[i+32] = (byte_array[i+32] & 254) | bit\n",
        "\n",
        "  # create audio file with modified frames\n",
        "  frame_modified = bytes(byte_array)\n",
        "  with wave.open(output_audio, 'wb') as fd:\n",
        "    fd.setparams(audio_file.getparams())\n",
        "    fd.writeframes(frame_modified)\n",
        "\n",
        "  audio_file.close()"
      ]
    },
    {
      "cell_type": "code",
      "source": [
        "def decode(encoded_audio):\n",
        "  audio_file = wave.open(encoded_audio, mode ='rb')\n",
        "\n",
        "  # read frames of the audio and convert it to byte array\n",
        "  frames = audio_file.readframes(-1)\n",
        "  byte_array = bytearray(frames)\n",
        "\n",
        "  # find message length information from first 32 bits of audio\n",
        "  message_len_bin = \"\"\n",
        "  for i in range(0,32):\n",
        "      bit = bin(byte_array[i])[2:].zfill(8)\n",
        "      message_len_bin += str(bit[-1])\n",
        "\n",
        "  # Extract message from the LSB of audio byte array\n",
        "  message = []\n",
        "  message_len = int(message_len_bin,2)\n",
        "  for i in range(message_len):\n",
        "      message.append(byte_array[i+32] & 1)\n",
        "\n",
        "  # Convert the decoded message in binary to string\n",
        "  decoded_msg = ''.join([chr(int(i, 2)) for i in [''.join(map(str,message[i:i+8])) for i in range(0, len(message), 8)]])\n",
        "\n",
        "  audio_file.close()\n",
        "\n",
        "  return decoded_msg"
      ],
      "metadata": {
        "id": "r3MiH-NbFVAJ"
      },
      "execution_count": 10,
      "outputs": []
    },
    {
      "cell_type": "markdown",
      "source": [
        "## Encode here"
      ],
      "metadata": {
        "id": "IzewseVhHQmX"
      }
    },
    {
      "cell_type": "code",
      "source": [
        "input_path = input(\"Enter input audio file path: \")\n",
        "output_path = input(\"Enter the output audio file path: \")\n",
        "message = input(\"Enter the secret text to hide in audio file: \")\n",
        "encode(input_path, output_path, message)\n",
        "print(\"Message encoded\")"
      ],
      "metadata": {
        "id": "KTaqe95iFsfJ",
        "colab": {
          "base_uri": "https://localhost:8080/"
        },
        "outputId": "8411721a-5270-4621-da49-110d161552c5"
      },
      "execution_count": 11,
      "outputs": [
        {
          "output_type": "stream",
          "name": "stdout",
          "text": [
            "Enter input audio file path: /content/cover_audio.wav\n",
            "Enter the output audio file path: /content/cover_audio_output.wav\n",
            "Enter the secret text to hide in audio file: Himanshu\n",
            "Message encoded\n"
          ]
        }
      ]
    },
    {
      "cell_type": "markdown",
      "source": [
        "## Decode here"
      ],
      "metadata": {
        "id": "TpBEqYhUHeu9"
      }
    },
    {
      "cell_type": "code",
      "source": [
        "output_path = input(\"Enter the audio file path to decode message: \")\n",
        "decoded_msg = decode(output_path)\n",
        "print(\"Message decoded: \", decoded_msg)"
      ],
      "metadata": {
        "colab": {
          "base_uri": "https://localhost:8080/"
        },
        "id": "K5udUIjauPaG",
        "outputId": "2c87adaf-c618-4a13-b838-3a4dcd34b23f"
      },
      "execution_count": 12,
      "outputs": [
        {
          "output_type": "stream",
          "name": "stdout",
          "text": [
            "Enter the audio file path to decode message: /content/cover_audio_output.wav\n",
            "Message decoded:  Himanshu\n"
          ]
        }
      ]
    }
  ]
}