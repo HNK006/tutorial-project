{
  "nbformat": 4,
  "nbformat_minor": 0,
  "metadata": {
    "colab": {
      "provenance": []
    },
    "kernelspec": {
      "name": "python3",
      "display_name": "Python 3"
    },
    "language_info": {
      "name": "python"
    }
  },
  "cells": [
    {
      "cell_type": "code",
      "source": [
        "import cv2\n",
        "import numpy as np"
      ],
      "metadata": {
        "id": "y2Gvr47AHNKA"
      },
      "execution_count": 41,
      "outputs": []
    },
    {
      "cell_type": "code",
      "source": [
        "def to_bin(data):\n",
        "    if isinstance(data, str):\n",
        "        return ''.join([format(ord(i), \"08b\") for i in data])\n",
        "    elif isinstance(data, bytes) or isinstance(data, np.ndarray):\n",
        "        return [format(i, \"08b\") for i in data]\n",
        "    elif isinstance(data, int) or isinstance(data, np.uint8):\n",
        "        return format(data, \"08b\")\n",
        "    else:\n",
        "        raise TypeError(\"Type not supported.\")"
      ],
      "metadata": {
        "id": "3kZWnMTVls07"
      },
      "execution_count": 42,
      "outputs": []
    },
    {
      "cell_type": "code",
      "source": [
        " def encode(input_image, secret_message):  \n",
        "    image = cv2.imread(input_image)\n",
        "    secret_message += '!!!!!'        \n",
        "    bin_secret_msg = to_bin(secret_message)  \n",
        "      \n",
        "    dataLen = len(bin_secret_msg)  \n",
        "    dataIndex = 0  \n",
        "    \n",
        "    for values in image:  \n",
        "        for pixels in values:    \n",
        "            r, g, b = to_bin(pixels)   \n",
        "            if dataIndex < dataLen:  \n",
        "                pixels[0] = int(r[:-1] + bin_secret_msg[dataIndex], 2)  \n",
        "                dataIndex += 1  \n",
        "            if dataIndex < dataLen:  \n",
        "                pixels[1] = int(g[:-1] + bin_secret_msg[dataIndex], 2)  \n",
        "                dataIndex += 1  \n",
        "            if dataIndex < dataLen:    \n",
        "                pixels[2] = int(b[:-1] + bin_secret_msg[dataIndex], 2)  \n",
        "                dataIndex += 1   \n",
        "            if dataIndex >= dataLen:\n",
        "                break   \n",
        "\n",
        "    return image"
      ],
      "metadata": {
        "id": "0U9g9gf7mf2e"
      },
      "execution_count": 43,
      "outputs": []
    },
    {
      "cell_type": "code",
      "source": [
        "def decode(input_image):    \n",
        "    image = cv2.imread(input_image)\n",
        "\n",
        "    bin_data = \"\"  \n",
        "    decoded_data = \"\"  \n",
        "\n",
        "    for values in image:  \n",
        "        for pixels in values:   \n",
        "            r, g, b = to_bin(pixels)  \n",
        "            bin_data += r[-1]    \n",
        "            bin_data += g[-1] \n",
        "            bin_data += b[-1]\n",
        "\n",
        "    allBytes = [bin_data[i: i + 8] for i in range(0, len(bin_data), 8)]  \n",
        "    for byte in allBytes:  \n",
        "        decoded_data += chr(int(byte, 2))  \n",
        "        if decoded_data[-5:] == \"!!!!!\":  \n",
        "            break\n",
        "\n",
        "    return decoded_data[:-5] "
      ],
      "metadata": {
        "id": "jcQmd8y6oJA-"
      },
      "execution_count": 44,
      "outputs": []
    },
    {
      "cell_type": "code",
      "source": [
        "def calculate_PSNR(input_path,output_path):\n",
        "    input_image = cv2.imread(input_path)\n",
        "    output_image = cv2.imread( output_path)\n",
        "\n",
        "    return cv2.PSNR(input_image, output_image)   "
      ],
      "metadata": {
        "id": "-rjjdywcp5t9"
      },
      "execution_count": 45,
      "outputs": []
    },
    {
      "cell_type": "code",
      "source": [
        "input_image = input(\"Enter the path to input image: \")\n",
        "output_image = input(\"Enter the path to output image: \")  \n",
        "secret_message = input(\"Enter the secret data: \")"
      ],
      "metadata": {
        "colab": {
          "base_uri": "https://localhost:8080/"
        },
        "id": "br8kN3QwqHue",
        "outputId": "2c50e0bb-2ac3-499c-b578-d171c3d0ed1d"
      },
      "execution_count": 46,
      "outputs": [
        {
          "name": "stdout",
          "output_type": "stream",
          "text": [
            "Enter the path to input image: /content/Cover_2.png\n",
            "Enter the path to output image: /content/Cover_2e.png\n",
            "Enter the secret data: Himanshu is here\n"
          ]
        }
      ]
    },
    {
      "cell_type": "code",
      "source": [
        "encoded_image = encode(input_image, secret_message)\n",
        "cv2.imwrite(output_image, encoded_image)\n",
        "print(\"Image encoded\")"
      ],
      "metadata": {
        "colab": {
          "base_uri": "https://localhost:8080/"
        },
        "id": "txNa2K6atk9l",
        "outputId": "77c42258-e4c0-4f3c-e6c7-4f24d59c1e95"
      },
      "execution_count": 47,
      "outputs": [
        {
          "output_type": "stream",
          "name": "stdout",
          "text": [
            "Image encoded\n"
          ]
        }
      ]
    },
    {
      "cell_type": "code",
      "source": [
        "secret_data = decode(output_image)\n",
        "print(\"Decoded message is: \" + secret_data)"
      ],
      "metadata": {
        "colab": {
          "base_uri": "https://localhost:8080/"
        },
        "id": "npiVWan-tieO",
        "outputId": "749378a7-f3bb-46f9-93b9-22cb26774bf4"
      },
      "execution_count": 48,
      "outputs": [
        {
          "output_type": "stream",
          "name": "stdout",
          "text": [
            "Decoded message is: Himanshu is here\n"
          ]
        }
      ]
    },
    {
      "cell_type": "code",
      "source": [
        "psnr = calculate_PSNR(input_image, output_image)\n",
        "print(\"PSNR: \", psnr)"
      ],
      "metadata": {
        "colab": {
          "base_uri": "https://localhost:8080/"
        },
        "id": "Flq-YPpUtf3m",
        "outputId": "37f3fd61-79b6-4019-a823-c1d63f4c1522"
      },
      "execution_count": 49,
      "outputs": [
        {
          "output_type": "stream",
          "name": "stdout",
          "text": [
            "PSNR:  81.33601104367288\n"
          ]
        }
      ]
    },
    {
      "cell_type": "code",
      "source": [],
      "metadata": {
        "id": "lonD10wetuki"
      },
      "execution_count": 49,
      "outputs": []
    }
  ]
}