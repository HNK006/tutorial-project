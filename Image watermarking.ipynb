{
  "nbformat": 4,
  "nbformat_minor": 0,
  "metadata": {
    "colab": {
      "provenance": []
    },
    "kernelspec": {
      "name": "python3",
      "display_name": "Python 3"
    },
    "language_info": {
      "name": "python"
    }
  },
  "cells": [
    {
      "cell_type": "code",
      "execution_count": 1,
      "metadata": {
        "id": "I8MSpt_j1vIU"
      },
      "outputs": [],
      "source": [
        "# imports\n",
        "import numpy as np\n",
        "import cv2\n",
        "from PIL import Image\n",
        "from scipy.fftpack import dct\n",
        "from scipy.fftpack import idct\n",
        "from math import log10, sqrt"
      ]
    },
    {
      "cell_type": "code",
      "source": [
        "# Specify image files here\n",
        "input_image = 'cover.jpg'\n",
        "watermark_logo = 'iitbbs_logo.jpeg'\n",
        "output_image = 'watermarked_image.png'\n",
        "recovered_logo = 'recovered_watermark.png'"
      ],
      "metadata": {
        "id": "-7BsI42m14pE"
      },
      "execution_count": 2,
      "outputs": []
    },
    {
      "cell_type": "code",
      "source": [
        "# Convert Image to grayscale and generate image array\n",
        "def convert_image(image_name, size):   \n",
        "  img = Image.open(image_name).resize((size, size), 1)  \n",
        "  img = img.convert('L')  \n",
        "  img.save(image_name)\n",
        "  image_array = np.array(img.getdata(), dtype = float).reshape((size, size))              \n",
        "  return image_array"
      ],
      "metadata": {
        "id": "1EHJVuwM2EDa"
      },
      "execution_count": 3,
      "outputs": []
    },
    {
      "cell_type": "code",
      "source": [
        "# Discrete Cosine Transform\n",
        "def apply_dct(image_array): \n",
        "  size = image_array[0].__len__()  \n",
        "  all_subdct = np.empty((size, size))  \n",
        "  \n",
        "  for i in range (0, size, 8):  \n",
        "    for j in range (0, size, 8):          \n",
        "      subpixels = image_array[i:i+8, j:j+8]         \n",
        "      subdct = dct(dct(subpixels.T, norm=\"ortho\").T, norm=\"ortho\")         \n",
        "      all_subdct[i:i+8, j:j+8] = subdct\n",
        "\n",
        "  return all_subdct"
      ],
      "metadata": {
        "id": "1FaPN6A22hiC"
      },
      "execution_count": 4,
      "outputs": []
    },
    {
      "cell_type": "code",
      "source": [
        "# Embed watermark in given image\n",
        "def embed_watermark(watermark_array, orig_image):   \n",
        "  watermark_array_size = watermark_array[0].__len__()    \n",
        "  watermark_flat = watermark_array.ravel()    \n",
        "  ind = 0\n",
        "  \n",
        "  for x in range (0, orig_image.__len__(), 8):      \n",
        "    for y in range (0, orig_image.__len__(), 8):        \n",
        "      if ind < watermark_flat.__len__():           \n",
        "        subdct = orig_image[x:x+8, y:y+8]             \n",
        "        subdct[5][5] = watermark_flat[ind]              \n",
        "        orig_image[x:x+8, y:y+8] = subdct            \n",
        "        ind += 1 \n",
        "\n",
        "  return orig_image"
      ],
      "metadata": {
        "id": "khVAu3W628Js"
      },
      "execution_count": 5,
      "outputs": []
    },
    {
      "cell_type": "code",
      "source": [
        "# Inverse DCT\n",
        "def inverse_dct(all_subdct):   \n",
        "  size = all_subdct[0].__len__()   \n",
        "  all_subidct = np.empty((size, size))  \n",
        "\n",
        "  for i in range (0, size, 8):   \n",
        "      for j in range (0, size, 8):    \n",
        "        subidct = idct(idct(all_subdct[i:i+8, j:j+8].T, norm=\"ortho\").T, norm=\"ortho\")      \n",
        "        all_subidct[i:i+8, j:j+8] = subidct\n",
        "        \n",
        "  return all_subidct"
      ],
      "metadata": {
        "id": "FO4EfYCY2xVn"
      },
      "execution_count": 6,
      "outputs": []
    },
    {
      "cell_type": "code",
      "source": [
        "# Recoved watermark\n",
        "def recover_watermark(watermarked_image_array, output_logo):\n",
        "  dct_watermarked_image_array = apply_dct(watermarked_image_array)  \n",
        "\n",
        "  watermark_size = 128   \n",
        "  subwatermarks = []\n",
        "\n",
        "  for x in range (0, dct_watermarked_image_array.__len__(), 8):     \n",
        "    for y in range (0, dct_watermarked_image_array.__len__(), 8):           \n",
        "      coeff_slice = dct_watermarked_image_array[x:x+8, y:y+8]        \n",
        "      subwatermarks.append(coeff_slice[5][5])\n",
        "      \n",
        "  watermark = np.array(subwatermarks).reshape(watermark_size, watermark_size)\n",
        "  watermark =  np.uint8(watermark)\n",
        "\n",
        "  img = Image.fromarray(watermark)\n",
        "  img.save(output_logo)"
      ],
      "metadata": {
        "id": "JjvLshqp6ohD"
      },
      "execution_count": 7,
      "outputs": []
    },
    {
      "cell_type": "code",
      "source": [
        "# Calculate PSNR\n",
        "def PSNR(original, compressed): \n",
        "    mse = np.mean((original - compressed) ** 2) \n",
        "    if(mse == 0):  \n",
        "        return 100\n",
        "    max_pixel = 255.0\n",
        "    psnr = 20 * log10(max_pixel / sqrt(mse)) \n",
        "    return psnr"
      ],
      "metadata": {
        "id": "CjekA5rP4Oix"
      },
      "execution_count": 8,
      "outputs": []
    },
    {
      "cell_type": "code",
      "source": [
        "# Correlation coefficient\n",
        "def correlation_coefficient(patch1, patch2):\n",
        "    product = np.mean((patch1 - patch1.mean()) * (patch2 - patch2.mean()))\n",
        "    stds = patch1.std() * patch2.std()\n",
        "\n",
        "    if stds == 0:\n",
        "        return 0\n",
        "    else:\n",
        "        product /= stds\n",
        "        return product"
      ],
      "metadata": {
        "id": "CRHJdc814cXJ"
      },
      "execution_count": 9,
      "outputs": []
    },
    {
      "cell_type": "markdown",
      "source": [
        "## Run here to put watermark on image"
      ],
      "metadata": {
        "id": "4iE6xlCO4xKt"
      }
    },
    {
      "cell_type": "code",
      "source": [
        "# converting images to greyscale\n",
        "image_array = convert_image(input_image, 1024)  \n",
        "watermark_array = convert_image(watermark_logo, 128)\n",
        "\n",
        "# applying dct and embedding watermark on image\n",
        "dct_array = apply_dct(image_array)   \n",
        "dct_array = embed_watermark(watermark_array, dct_array)   \n",
        "watermarked_image_array = inverse_dct(dct_array)\n",
        "\n",
        "# save watermarked image from array\n",
        "image_array_copy = watermarked_image_array.clip(0, 255)   \n",
        "image_array_copy = image_array_copy.astype(\"uint8\")  \n",
        "img = Image.fromarray(image_array_copy)  \n",
        "img.save(output_image)\n",
        "print(\"Watermark\", watermark_logo, \"put on\", input_image, \". Image saved as\", output_image)"
      ],
      "metadata": {
        "id": "ZHOgTMqwXUv8",
        "colab": {
          "base_uri": "https://localhost:8080/"
        },
        "outputId": "991f9f2f-1fcc-4d16-ba97-1160a75b51a4"
      },
      "execution_count": 10,
      "outputs": [
        {
          "output_type": "stream",
          "name": "stdout",
          "text": [
            "Watermark iitbbs_logo.jpeg put on cover.jpg . Image saved as watermarked_image.png\n"
          ]
        }
      ]
    },
    {
      "cell_type": "code",
      "source": [
        "# Calculate PSNR between original image and watermarked image\n",
        "original_image = cv2.imread(input_image)\n",
        "watermarked_image = cv2.imread(output_image) \n",
        "psnr = PSNR(original_image, watermarked_image)\n",
        "print(\"PSNR =\", psnr)"
      ],
      "metadata": {
        "colab": {
          "base_uri": "https://localhost:8080/"
        },
        "id": "qKN32DJ841la",
        "outputId": "9f302772-68c2-4f29-b5d3-644db5149ea2"
      },
      "execution_count": 11,
      "outputs": [
        {
          "output_type": "stream",
          "name": "stdout",
          "text": [
            "PSNR = 29.234398346866772\n"
          ]
        }
      ]
    },
    {
      "cell_type": "code",
      "source": [
        "# Recover watermark from image\n",
        "recover_watermark(watermarked_image_array, recovered_logo)\n",
        "print(\"Recovered logo =\", recovered_logo)"
      ],
      "metadata": {
        "id": "Db5d9e5CaLqi",
        "colab": {
          "base_uri": "https://localhost:8080/"
        },
        "outputId": "c1812fde-a309-4b7f-a86d-70cc16c6c710"
      },
      "execution_count": 12,
      "outputs": [
        {
          "output_type": "stream",
          "name": "stdout",
          "text": [
            "Recovered logo = recovered_watermark.png\n"
          ]
        }
      ]
    },
    {
      "cell_type": "code",
      "source": [
        "# Calculate Correlation coefficient between original logo and recovered logo\n",
        "img1 = convert_image(watermark_logo, 128)\n",
        "img2 = convert_image(recovered_logo, 128)\n",
        "corr_coeff = correlation_coefficient(img1, img2)\n",
        "print(\"Correlation Coefficient =\", corr_coeff)"
      ],
      "metadata": {
        "colab": {
          "base_uri": "https://localhost:8080/"
        },
        "id": "ZWOJamQw5D6k",
        "outputId": "be8077ba-c17b-49e9-9f2e-f9283bf98a6c"
      },
      "execution_count": 13,
      "outputs": [
        {
          "output_type": "stream",
          "name": "stdout",
          "text": [
            "Correlation Coefficient = 0.999808452197669\n"
          ]
        }
      ]
    },
    {
      "cell_type": "markdown",
      "source": [
        "# Attacks"
      ],
      "metadata": {
        "id": "pmhiklKiG9Hj"
      }
    },
    {
      "cell_type": "markdown",
      "source": [
        "### Rotational Attack"
      ],
      "metadata": {
        "id": "3rBLD-9GG_Yv"
      }
    },
    {
      "cell_type": "code",
      "source": [
        "img = cv2.imread(output_image)\n",
        "img = cv2.cvtColor(np.float32(img), cv2.COLOR_BGR2GRAY)\n",
        "center = (512, 512)\n",
        "rotation_matrix = cv2.getRotationMatrix2D(center, 90, 1)\n",
        "tampered_image = cv2.warpAffine(img, rotation_matrix, (1024, 1024))\n",
        "cv2.imwrite('rotational_attack.png', tampered_image)\n",
        "print(\"Rotational attack done\", 'rotational_attack.png')"
      ],
      "metadata": {
        "colab": {
          "base_uri": "https://localhost:8080/"
        },
        "id": "4i-EHxWoHDnW",
        "outputId": "928dd67a-872b-48ac-bd7d-75bb0460c6af"
      },
      "execution_count": 14,
      "outputs": [
        {
          "output_type": "stream",
          "name": "stdout",
          "text": [
            "Rotational attack done rotational_attack.png\n"
          ]
        }
      ]
    },
    {
      "cell_type": "code",
      "source": [
        "# Recover watermark from image\n",
        "recovered_logo = 'rotational_attack_recovered_watermark.png'\n",
        "recover_watermark(tampered_image, recovered_logo)\n",
        "print(\"Recovered logo =\", recovered_logo)"
      ],
      "metadata": {
        "colab": {
          "base_uri": "https://localhost:8080/"
        },
        "id": "qjjSN1icHq1N",
        "outputId": "9da997e4-54fe-4f71-e1f4-d82a2d225bdb"
      },
      "execution_count": 15,
      "outputs": [
        {
          "output_type": "stream",
          "name": "stdout",
          "text": [
            "Recovered logo = rotational_attack_recovered_watermark.png\n"
          ]
        }
      ]
    },
    {
      "cell_type": "code",
      "source": [
        "# Calculate Correlation coefficient between original logo and recovered logo\n",
        "img1 = convert_image(watermark_logo, 128)\n",
        "img2 = convert_image(recovered_logo, 128)\n",
        "corr_coeff = correlation_coefficient(img1, img2)\n",
        "print(\"Correlation Coefficient =\", corr_coeff)"
      ],
      "metadata": {
        "colab": {
          "base_uri": "https://localhost:8080/"
        },
        "id": "HMuFZfZwLQsG",
        "outputId": "2b9fdfa1-59cd-47f6-924e-131504713d0a"
      },
      "execution_count": 16,
      "outputs": [
        {
          "output_type": "stream",
          "name": "stdout",
          "text": [
            "Correlation Coefficient = 0.287190645647429\n"
          ]
        }
      ]
    },
    {
      "cell_type": "markdown",
      "source": [
        "### Average Filer"
      ],
      "metadata": {
        "id": "edrRRE4oMrmQ"
      }
    },
    {
      "cell_type": "code",
      "source": [
        "img = cv2.imread(output_image, 0)\n",
        "\n",
        "m = img.shape[0]\n",
        "n = img.shape[1]\n",
        "\n",
        "filter = np.ones([3,3], dtype = int)\n",
        "filter = filter/9\n",
        "\n",
        "tampered_image = np.zeros([m,n])\n",
        "\n",
        "for i in range(1, m-1):\n",
        "  for j in range(1, n-1):\n",
        "      temp = (img[i-1, j-1]*filter[0, 0])+(img[i-1, j]*filter[0, 1])+(img[i-1, j + 1]*filter[0, 2])+(img[i, j-1]*filter[1, 0])+ (img[i, j]*filter[1, 1])+(img[i, j + 1]*filter[1, 2])+(img[i + 1, j-1]*filter[2, 0])+(img[i + 1, j]*filter[2, 1])+(img[i + 1, j + 1]*filter[2, 2])         \n",
        "      tampered_image[i,j] = temp\n",
        "\n",
        "cv2.imwrite('average_filter_attack.png', tampered_image)\n",
        "print(\"Average filter attack done\", 'average_filter_attack.png')"
      ],
      "metadata": {
        "colab": {
          "base_uri": "https://localhost:8080/"
        },
        "id": "sBHYnKnaMtaN",
        "outputId": "5a21a0bb-ed5c-4f6b-8310-f7b4d6a69ff8"
      },
      "execution_count": 17,
      "outputs": [
        {
          "output_type": "stream",
          "name": "stdout",
          "text": [
            "Average filter attack done average_filter_attack.png\n"
          ]
        }
      ]
    },
    {
      "cell_type": "code",
      "source": [
        "# Recover watermark from image\n",
        "recovered_logo = 'average_filter_attack_recovered_watermark.png'\n",
        "recover_watermark(tampered_image, recovered_logo)\n",
        "print(\"Recovered logo =\", recovered_logo)"
      ],
      "metadata": {
        "colab": {
          "base_uri": "https://localhost:8080/"
        },
        "outputId": "fb40f193-8022-41f3-f7c6-e82949fe73ab",
        "id": "XeI4xkjGO79Y"
      },
      "execution_count": 18,
      "outputs": [
        {
          "output_type": "stream",
          "name": "stdout",
          "text": [
            "Recovered logo = average_filter_attack_recovered_watermark.png\n"
          ]
        }
      ]
    },
    {
      "cell_type": "code",
      "source": [
        "# Calculate Correlation coefficient between original logo and recovered logo\n",
        "img1 = convert_image(watermark_logo, 128)\n",
        "img2 = convert_image(recovered_logo, 128)\n",
        "corr_coeff = correlation_coefficient(img1, img2)\n",
        "print(\"Correlation Coefficient =\", corr_coeff)"
      ],
      "metadata": {
        "colab": {
          "base_uri": "https://localhost:8080/"
        },
        "outputId": "c94e82ad-96f3-4994-dc1c-130cc64f1a7c",
        "id": "o2cqSe9JO79Z"
      },
      "execution_count": 19,
      "outputs": [
        {
          "output_type": "stream",
          "name": "stdout",
          "text": [
            "Correlation Coefficient = -0.0072237797838706624\n"
          ]
        }
      ]
    },
    {
      "cell_type": "markdown",
      "source": [
        "### Median Filter"
      ],
      "metadata": {
        "id": "RlWw79NQSJpg"
      }
    },
    {
      "cell_type": "code",
      "source": [
        "img = cv2.imread(output_image, 0)\n",
        "m, n = img.shape\n",
        "\n",
        "tampered_image = np.zeros([m, n])\n",
        "  \n",
        "for i in range(1, m-1):\n",
        "    for j in range(1, n-1):\n",
        "        temp = [img[i-1, j-1],\n",
        "              img[i-1, j],\n",
        "              img[i-1, j + 1],\n",
        "              img[i, j-1],\n",
        "              img[i, j],\n",
        "              img[i, j + 1],\n",
        "              img[i + 1, j-1],\n",
        "              img[i + 1, j],\n",
        "              img[i + 1, j + 1]]\n",
        "          \n",
        "        temp = sorted(temp)\n",
        "        tampered_image[i, j] = temp[4]\n",
        "  \n",
        "tampered_image = tampered_image.astype(np.uint8)\n",
        "cv2.imwrite('median_filter_attack.png', tampered_image)\n",
        "print(\"Median filter attack done\", 'median_filter_attack.png')"
      ],
      "metadata": {
        "colab": {
          "base_uri": "https://localhost:8080/"
        },
        "id": "xUDZz5jdSK1A",
        "outputId": "8998844d-c5c1-428e-eb94-0bd7f4e1fb1d"
      },
      "execution_count": 20,
      "outputs": [
        {
          "output_type": "stream",
          "name": "stdout",
          "text": [
            "Median filter attack done median_filter_attack.png\n"
          ]
        }
      ]
    },
    {
      "cell_type": "code",
      "source": [
        "# Recover watermark from image\n",
        "recovered_logo = 'median_filter_attack_recovered_watermark.png'\n",
        "recover_watermark(tampered_image, recovered_logo)\n",
        "print(\"Recovered logo =\", recovered_logo)"
      ],
      "metadata": {
        "colab": {
          "base_uri": "https://localhost:8080/"
        },
        "outputId": "ee058d05-15dd-4cf5-8088-556e0ac45f70",
        "id": "FjXluczwTFOm"
      },
      "execution_count": 21,
      "outputs": [
        {
          "output_type": "stream",
          "name": "stdout",
          "text": [
            "Recovered logo = median_filter_attack_recovered_watermark.png\n"
          ]
        }
      ]
    },
    {
      "cell_type": "code",
      "source": [
        "# Calculate Correlation coefficient between original logo and recovered logo\n",
        "img1 = convert_image(watermark_logo, 128)\n",
        "img2 = convert_image(recovered_logo, 128)\n",
        "corr_coeff = correlation_coefficient(img1, img2)\n",
        "print(\"Correlation Coefficient =\", corr_coeff)"
      ],
      "metadata": {
        "colab": {
          "base_uri": "https://localhost:8080/"
        },
        "outputId": "a3d525b3-b0a9-4a27-92e9-fdccf0db45b4",
        "id": "6-02dycITFOn"
      },
      "execution_count": 22,
      "outputs": [
        {
          "output_type": "stream",
          "name": "stdout",
          "text": [
            "Correlation Coefficient = -0.09738330858842437\n"
          ]
        }
      ]
    },
    {
      "cell_type": "markdown",
      "source": [
        "### Cropping Attack"
      ],
      "metadata": {
        "id": "8quluU4TTmvn"
      }
    },
    {
      "cell_type": "code",
      "source": [
        "img = Image.open(output_image)\n",
        "tampered_image = img.crop( (1, 0, 1022, 1023) )\n",
        "tampered_image.save('cropping_attack.png')\n",
        "print(\"Cropping attack done\", 'cropping_attack.png')"
      ],
      "metadata": {
        "colab": {
          "base_uri": "https://localhost:8080/"
        },
        "id": "6_yoHF-TToJY",
        "outputId": "26a24f81-ba68-4b06-aad9-00118d9e5fa4"
      },
      "execution_count": 23,
      "outputs": [
        {
          "output_type": "stream",
          "name": "stdout",
          "text": [
            "Cropping attack done cropping_attack.png\n"
          ]
        }
      ]
    },
    {
      "cell_type": "code",
      "source": [
        "# Recover watermark from image\n",
        "recovered_logo = 'cropping_attack_recovered_watermark.png'\n",
        "img = convert_image(\"cropping_attack.png\", 1024)\n",
        "recover_watermark(img, recovered_logo)\n",
        "print(\"Recovered logo =\", recovered_logo)"
      ],
      "metadata": {
        "colab": {
          "base_uri": "https://localhost:8080/"
        },
        "outputId": "df58721f-d5bc-44b6-b281-5164923c3b42",
        "id": "LIB4YLptUl-W"
      },
      "execution_count": 24,
      "outputs": [
        {
          "output_type": "stream",
          "name": "stdout",
          "text": [
            "Recovered logo = cropping_attack_recovered_watermark.png\n"
          ]
        }
      ]
    },
    {
      "cell_type": "code",
      "source": [
        "# Calculate Correlation coefficient between original logo and recovered logo\n",
        "img1 = convert_image(watermark_logo, 128)\n",
        "img2 = convert_image(recovered_logo, 128)\n",
        "corr_coeff = correlation_coefficient(img1, img2)\n",
        "print(\"Correlation Coefficient =\", corr_coeff)"
      ],
      "metadata": {
        "colab": {
          "base_uri": "https://localhost:8080/"
        },
        "outputId": "5af66732-e2cd-4a99-8995-f5308fdc2b80",
        "id": "R3LxU_IwUl-e"
      },
      "execution_count": 25,
      "outputs": [
        {
          "output_type": "stream",
          "name": "stdout",
          "text": [
            "Correlation Coefficient = 0.15508941317380637\n"
          ]
        }
      ]
    },
    {
      "cell_type": "code",
      "source": [],
      "metadata": {
        "id": "f3PPFBJoVopV"
      },
      "execution_count": 25,
      "outputs": []
    }
  ]
}